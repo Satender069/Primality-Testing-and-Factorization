{
 "cells": [
  {
   "cell_type": "markdown",
   "metadata": {},
   "source": [
    "# Continued Fraction Factoring Algorithm"
   ]
  },
  {
   "cell_type": "markdown",
   "metadata": {},
   "source": [
    "\n",
    "\n",
    "Take  $$p_{k-1}^2-nq_{k-1}^2 = (-1)^kt_k\\ (k\\geq 1).$$ Expressing it as congruence modulo $n$; $$p_{k-1}^2\\equiv (-1)^kt_k\\ (mod\\ n).$$  First calculate $p_{k-1}^2 \\ (mod\\ n)$ and check for a perfect square. Then apply a generalisation of Fermat's factorization scheme."
   ]
  },
  {
   "cell_type": "code",
   "execution_count": 2,
   "metadata": {},
   "outputs": [],
   "source": [
    "import math as m\n",
    "def cffa(n,b):             # b is bound for calculations\n",
    "    xo=m.sqrt(n)\n",
    "    ao=m.floor(xo)\n",
    "    if xo==ao:\n",
    "        print(\"Divisors =\",xo,xo)\n",
    "    else:\n",
    "        x1=1/(xo-ao)\n",
    "        a1=m.floor(x1)\n",
    "        po=ao\n",
    "        p1=a1*po+1\n",
    "        qo=1\n",
    "        q1=a1\n",
    "        k=1\n",
    "        while k<b:\n",
    "            k=k+1\n",
    "            p=p1\n",
    "            q=q1\n",
    "            x1=1/(x1-a1)\n",
    "            a1=m.floor(x1)\n",
    "            p1=a1*p1+po\n",
    "            q1=a1*q1+qo\n",
    "            k1=(p1*p1)%n\n",
    "            sq=m.sqrt(k1)\n",
    "            sq1=m.floor(sq)\n",
    "            if sq==sq1:\n",
    "                print(m.gcd(p1-sq1,n),m.gcd(p1+sq1,n))\n",
    "                break\n",
    "            else:\n",
    "                if k==b-1:\n",
    "                    print(\"No divisors found\")\n",
    "            po=p\n",
    "            qo=q"
   ]
  },
  {
   "cell_type": "code",
   "execution_count": 45,
   "metadata": {},
   "outputs": [
    {
     "name": "stdout",
     "output_type": "stream",
     "text": [
      "No divisors found\n"
     ]
    }
   ],
   "source": [
    "cffa(123456789454675,100000)"
   ]
  },
  {
   "cell_type": "code",
   "execution_count": 25,
   "metadata": {},
   "outputs": [
    {
     "name": "stdout",
     "output_type": "stream",
     "text": [
      "9924259 124399\n",
      "0.9059822000000395\n"
     ]
    }
   ],
   "source": [
    "import time\n",
    "st = time.perf_counter()\n",
    "cffa(1234567895341,51558)\n",
    "end = time.perf_counter()\n",
    "print(end-st)"
   ]
  },
  {
   "cell_type": "markdown",
   "metadata": {},
   "source": [
    "Time taken by fermat's non-generalized scheme : 1.5201492000001053\n",
    "\n",
    "Time taken by fermat's generalized scheme     : 1.964020999999775\n"
   ]
  },
  {
   "cell_type": "code",
   "execution_count": 24,
   "metadata": {},
   "outputs": [
    {
     "name": "stdout",
     "output_type": "stream",
     "text": [
      "No divisors found\n",
      "Time taken = 79.528277\n"
     ]
    }
   ],
   "source": [
    "import time\n",
    "strt = time.perf_counter()\n",
    "cffa(12345672342357,50000)\n",
    "end = time.perf_counter()\n",
    "print(f'Time taken = {end-strt}')"
   ]
  }
 ],
 "metadata": {
  "kernelspec": {
   "display_name": "Python 3",
   "language": "python",
   "name": "python3"
  },
  "language_info": {
   "codemirror_mode": {
    "name": "ipython",
    "version": 3
   },
   "file_extension": ".py",
   "mimetype": "text/x-python",
   "name": "python",
   "nbconvert_exporter": "python",
   "pygments_lexer": "ipython3",
   "version": "3.8.3"
  }
 },
 "nbformat": 4,
 "nbformat_minor": 4
}
