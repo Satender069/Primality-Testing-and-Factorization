{
 "cells": [
  {
   "cell_type": "markdown",
   "metadata": {},
   "source": [
    "# <font color=purple>**Pollard Algorithms**</font>"
   ]
  },
  {
   "cell_type": "markdown",
   "metadata": {},
   "source": [
    "## $1.$   <font color=black>*Pollard (p-1) Algorithm*</font>"
   ]
  },
  {
   "cell_type": "markdown",
   "metadata": {},
   "source": [
    "### Theory :\n",
    "Let $p$ be the unknown prime divisor of an odd composite integer $n$ such that $p-1$ is a product of relatively small primes. Let $q$ be any integer such that $(p-1)|q$. For instance, $q$ could be either $k!$ or $lcm(1,2,....,k)$ for large enough $k$. Now choose a base $a$ such that $1<a<(p-1)$ and calculate $a^q\\equiv m \\ mod(n)$.\n",
    "Because $q=(p-1).j$ for some $j$, we get: $$m\\equiv a^q \\equiv (a^{p-1})^j\\equiv 1^j=1\\ mod(p)$$\n",
    " From above we get $p|(m-1)$. So we get $gcd(m-1,n)>1$ as our non-trivial divisor as long as $m\\not \\equiv 1\\ mod(n)$. If $gcd(m-1,n)=1$ we do the same for different base $a$. It works better for integers with small factors."
   ]
  },
  {
   "cell_type": "code",
   "execution_count": 35,
   "metadata": {},
   "outputs": [],
   "source": [
    "import math \n",
    "import random as r\n",
    "def pollard(n,q):\n",
    "    q1=math.factorial(q) #we must choose q large enough such that q1 is divisible by p-1.\n",
    "    root=math.isqrt(n)\n",
    "    base = r.randint(2,n-1)\n",
    "    m=pow(base,q1,n)\n",
    "    gcd=math.gcd(m-1,n)\n",
    "    if (m-1)%n!=0 and gcd>1: \n",
    "        return gcd\n",
    "    else:                     \n",
    "        return \"Failure\""
   ]
  },
  {
   "cell_type": "code",
   "execution_count": 3,
   "metadata": {},
   "outputs": [
    {
     "name": "stdout",
     "output_type": "stream",
     "text": [
      "Non-Trivial Divisor= 3\n"
     ]
    }
   ],
   "source": [
    "pollard(177,7)"
   ]
  },
  {
   "cell_type": "code",
   "execution_count": 4,
   "metadata": {},
   "outputs": [
    {
     "data": {
      "text/plain": [
       "'Failure'"
      ]
     },
     "execution_count": 4,
     "metadata": {},
     "output_type": "execute_result"
    }
   ],
   "source": [
    "pollard(1234567,6)  # q is not large enough"
   ]
  },
  {
   "cell_type": "code",
   "execution_count": 43,
   "metadata": {},
   "outputs": [
    {
     "name": "stdout",
     "output_type": "stream",
     "text": [
      "37\n",
      "Time taken = 0.0009343000001535984\n"
     ]
    }
   ],
   "source": [
    "import time\n",
    "strt = time.perf_counter()\n",
    "print(pollard(92345674632906598735689234630285698375687563737,7))\n",
    "end = time.perf_counter()\n",
    "print(f'Time taken = {end-strt}')"
   ]
  },
  {
   "cell_type": "code",
   "execution_count": 45,
   "metadata": {},
   "outputs": [
    {
     "name": "stdout",
     "output_type": "stream",
     "text": [
      "3929\n",
      "Time taken = 0.003310800000008385\n"
     ]
    }
   ],
   "source": [
    "import time\n",
    "strt = time.perf_counter()\n",
    "print(pollard(12323432432447,500))\n",
    "end = time.perf_counter()\n",
    "print(f'Time taken = {end-strt}')"
   ]
  },
  {
   "cell_type": "markdown",
   "metadata": {},
   "source": [
    "## $2.$   <font color=black>*Pollard-Rho Algorithm*</font>"
   ]
  },
  {
   "cell_type": "markdown",
   "metadata": {},
   "source": [
    "### Theory:\n",
    "First we choose a simple polynomial of degree atleast 2 with integer coefficients such as we have taken for below algorithm a quadratic polynomial of form $f(x) = x^2 + a \\ ;\\ a\\neq 0,-2$. Then we take a initial value, say, $x_0$ and create random sequence $x_1,x_2,....$ from recursive relation $$x_{k+1}\\equiv f(x_k)\\ (mod\\ n)\\ ;\\ k=0,1,2,...$$ where $x_1=f(x_0), \\ x_2=f(x_1),...$ are computed modulo $n$.\n",
    "Now if $d$ is any non-trivial divisor of $n$ then we know that it has few congruence classes compared to $n$. There will probably exist in our sequence some $x_j$ and $x_k$ $(x_j<x_k)$ such that $x_k\\not \\equiv x_j\\ (mod\\ n)$ but $x_k\\equiv x_j\\ (mod\\ d)$. And then we can get a non-trivial divisor of $n$ by computing $gcd(x_k-x_j,n)$. \n",
    "It can turn out that divisor obtained is $n$, in that case $x_k\\equiv x_j\\ (mod\\ n)$, then we choose a different starting value $x_0$ or a different polynomial."
   ]
  },
  {
   "cell_type": "markdown",
   "metadata": {},
   "source": [
    "Now task of computing $gcd(x_k-x_j,n)$ increase as $k$ increases. We can reduce it by checking cases where $k=2.j$ as $$x_k\\equiv x_j\\ (mod\\ d);\\ j<k\\ \\implies f(x_k)\\equiv f(x_j)\\ (mod\\ d)\\ i.e.,\\ x_{k+1}\\equiv x_{j+1}\\ (mod\\ d)$$ Providing us with period of length (k-j). So we will get $x_{2.t}\\equiv x_t\\ (mod\\ d)$ whenever $t$ is taken to be multiple of $(k-j)$ larger than $j$. "
   ]
  },
  {
   "cell_type": "code",
   "execution_count": 2,
   "metadata": {},
   "outputs": [],
   "source": [
    "import math\n",
    "def pollard2(n,x1,a,bound):      # a!= 0 and -2, x1 = initial value\n",
    "    list1=[x1]\n",
    "    for i in range(1,bound):\n",
    "        x1=(pow(x1,2)+a)%n \n",
    "        list1.append(x1)\n",
    "    for i in range(1,int(bound/2)):\n",
    "            n1=list1[2*i]-list1[i]\n",
    "            gc=math.gcd(n1,n)\n",
    "            if n1%n!=0 and gc>1:\n",
    "                print(\"Period(w.r.t. Divisor)=\",i)\n",
    "                print(\"Non-Trivial Divisor=\",gc)\n",
    "                break "
   ]
  },
  {
   "cell_type": "code",
   "execution_count": 3,
   "metadata": {},
   "outputs": [
    {
     "name": "stdout",
     "output_type": "stream",
     "text": [
      "Period(w.r.t. Divisor)= 4\n",
      "Non-Trivial Divisor= 11\n"
     ]
    }
   ],
   "source": [
    "pollard2(2189,1,1,100)"
   ]
  }
 ],
 "metadata": {
  "kernelspec": {
   "display_name": "Python 3",
   "language": "python",
   "name": "python3"
  },
  "language_info": {
   "codemirror_mode": {
    "name": "ipython",
    "version": 3
   },
   "file_extension": ".py",
   "mimetype": "text/x-python",
   "name": "python",
   "nbconvert_exporter": "python",
   "pygments_lexer": "ipython3",
   "version": "3.8.3"
  }
 },
 "nbformat": 4,
 "nbformat_minor": 4
}
