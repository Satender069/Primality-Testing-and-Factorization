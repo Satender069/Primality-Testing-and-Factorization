{
 "cells": [
  {
   "cell_type": "markdown",
   "metadata": {},
   "source": [
    "# Fermat's Factorization Scheme\n",
    "## 1. Non-Generalised"
   ]
  },
  {
   "cell_type": "code",
   "execution_count": 13,
   "metadata": {},
   "outputs": [],
   "source": [
    "import math as m\n",
    "\n",
    "def prime(n):   # take n odd\n",
    "    k = m.isqrt(n)+1\n",
    "    y2 = k*k-n\n",
    "    y = m.isqrt(y2)\n",
    "    while y*y!=y2:\n",
    "        k=k+1\n",
    "        y2=k*k-n\n",
    "        y=m.isqrt(y2)\n",
    "    print(k+y,k-y)"
   ]
  },
  {
   "cell_type": "code",
   "execution_count": 14,
   "metadata": {},
   "outputs": [
    {
     "name": "stdout",
     "output_type": "stream",
     "text": [
      "9721 127\n",
      "Time taken = 0.0024094999998851563 seconds\n"
     ]
    }
   ],
   "source": [
    "import time\n",
    "\n",
    "start=time.perf_counter()\n",
    "\n",
    "prime(1234567)\n",
    "\n",
    "end = time.perf_counter()\n",
    "print(f'Time taken = {end-start} seconds')"
   ]
  },
  {
   "cell_type": "markdown",
   "metadata": {},
   "source": [
    "### Fibonacci Numbers"
   ]
  },
  {
   "cell_type": "code",
   "execution_count": 10,
   "metadata": {},
   "outputs": [
    {
     "data": {
      "text/plain": [
       "280571172992510140037611932413038677189525"
      ]
     },
     "execution_count": 10,
     "metadata": {},
     "output_type": "execute_result"
    }
   ],
   "source": [
    "import math\n",
    "f = [1,1]\n",
    "for i in range(2,200):\n",
    "    f.append(f[i-1]+f[i-2])\n",
    "f[199]"
   ]
  },
  {
   "cell_type": "markdown",
   "metadata": {},
   "source": [
    "### Calculating number of Digits"
   ]
  },
  {
   "cell_type": "code",
   "execution_count": 6,
   "metadata": {},
   "outputs": [
    {
     "name": "stdout",
     "output_type": "stream",
     "text": [
      "42\n"
     ]
    }
   ],
   "source": [
    "import math\n",
    "i = 1\n",
    "n = f[199]\n",
    "while round(n/10)!=0:\n",
    "    n = round(n/10)\n",
    "    i = i+1\n",
    "print(i)"
   ]
  },
  {
   "cell_type": "code",
   "execution_count": null,
   "metadata": {},
   "outputs": [],
   "source": []
  },
  {
   "cell_type": "markdown",
   "metadata": {},
   "source": [
    "## 2. Generalized"
   ]
  },
  {
   "cell_type": "code",
   "execution_count": 15,
   "metadata": {},
   "outputs": [],
   "source": [
    "import math as m\n",
    "def prime2(n):  #take n odd\n",
    "    x = m.isqrt(n)+1\n",
    "    y2 = x*x-n\n",
    "    y = m.isqrt(y2)\n",
    "    k=2\n",
    "    while y*y!=y2:\n",
    "        if x*x>k*n:\n",
    "            y2 = x*x-k*n\n",
    "            y = m.isqrt(y2)\n",
    "            k=k+1\n",
    "        else:\n",
    "            x= x+1\n",
    "            y2 = x*x-n\n",
    "            y = m.isqrt(y2)\n",
    "    print(m.gcd(x-y,n),m.gcd(x+y,n))"
   ]
  },
  {
   "cell_type": "code",
   "execution_count": 16,
   "metadata": {},
   "outputs": [
    {
     "name": "stdout",
     "output_type": "stream",
     "text": [
      "127 9721\n",
      "Time taken = 0.003342900000006921\n"
     ]
    }
   ],
   "source": [
    "import time\n",
    "strt = time.perf_counter()\n",
    "prime2(1234567)\n",
    "end = time.perf_counter()\n",
    "print(f'Time taken = {end-strt}')"
   ]
  },
  {
   "cell_type": "markdown",
   "metadata": {},
   "source": [
    "# Threading -- TRIAL"
   ]
  },
  {
   "cell_type": "code",
   "execution_count": 6,
   "metadata": {},
   "outputs": [
    {
     "name": "stdout",
     "output_type": "stream",
     "text": [
      "(9721, 127)\n",
      "finished in 26.93 seconds\n"
     ]
    }
   ],
   "source": [
    "import threading as th\n",
    "import time\n",
    "import numpy\n",
    "import math\n",
    "import concurrent.futures\n",
    "\n",
    "\n",
    "start = time.perf_counter()             \n",
    "n=1234567\n",
    "def prime(X):                      #Fermat's Factorization Scheme\n",
    "    x1=X*X-n\n",
    "    Y=math.isqrt(x1)\n",
    "    if Y==math.sqrt(x1):\n",
    "        return X+Y,X-Y\n",
    "    \n",
    "        \n",
    "\n",
    "\n",
    "r1 = math.isqrt(n)+1\n",
    "r2 = round((n+1)/2)\n",
    "\n",
    "lis=[]\n",
    "for i in range(r1,r2):\n",
    "    lis.append(i)\n",
    "    \n",
    "with concurrent.futures.ThreadPoolExecutor() as executor:\n",
    "    results = [executor.submit(prime,l) for l in lis]\n",
    "    \n",
    "    for f in concurrent.futures.as_completed(results):\n",
    "        if f.result()!= None:\n",
    "            print(f.result())\n",
    "\n",
    "fin = time.perf_counter()\n",
    "print(f'finished in {round(fin-start,2)} seconds')\n"
   ]
  },
  {
   "cell_type": "code",
   "execution_count": null,
   "metadata": {},
   "outputs": [],
   "source": []
  }
 ],
 "metadata": {
  "kernelspec": {
   "display_name": "Python 3",
   "language": "python",
   "name": "python3"
  },
  "language_info": {
   "codemirror_mode": {
    "name": "ipython",
    "version": 3
   },
   "file_extension": ".py",
   "mimetype": "text/x-python",
   "name": "python",
   "nbconvert_exporter": "python",
   "pygments_lexer": "ipython3",
   "version": "3.8.3"
  }
 },
 "nbformat": 4,
 "nbformat_minor": 4
}
