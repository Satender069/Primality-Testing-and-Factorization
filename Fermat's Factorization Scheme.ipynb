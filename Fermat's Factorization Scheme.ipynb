{
 "cells": [
  {
   "cell_type": "markdown",
   "metadata": {},
   "source": [
    "# Fermat's Factorization Scheme\n",
    "\n",
    "## Theory : \n",
    "For an odd integer $n$, solving $n=x^2−y^2$ leads to $n= (x−y)(x+y)$ factorization. Conversely, for any odd $n=ab$ , $a≥b≥1$ we can get $n= \\big(\\frac{a+b}{2}\\big)^2− \\big(\\frac{a-b}{2}\\big)^2$.\n",
    "\n"
   ]
  },
  {
   "cell_type": "markdown",
   "metadata": {},
   "source": [
    "## 1. Non-Generalized"
   ]
  },
  {
   "cell_type": "markdown",
   "metadata": {},
   "source": [
    "\n",
    "Start from an integer $k$ such that $k^2 \\geq n$. Then look successively at: $$k^2-n ,\\ (k+1)^2-n, ......,\\ (k+j)^2-n \\ ;\\ j=0,1,2,....$$ Until we find a square. This process is finite because eventually we will arrive at trivial factorization $n=n.1$ when $k+j=\\frac{n+1}{2}$. \n",
    "\n",
    "It returns large factors not necessarily prime. Direct mathod of factoring by number less than $\\sqrt n$ works better for integers with small factors as in case of large integers $\\sqrt n$ is large, increasing the number of computations to find factors near $\\sqrt n$."
   ]
  },
  {
   "cell_type": "code",
   "execution_count": 7,
   "metadata": {},
   "outputs": [],
   "source": [
    "import math as m\n",
    "def fermat1(n): # take n odd\n",
    "    k = m.isqrt(n)\n",
    "    if k<m.sqrt(n):\n",
    "        k=k+1\n",
    "    y2 = k*k-n\n",
    "    y = m.isqrt(y2)\n",
    "    while y*y!=y2:\n",
    "        k=k+1\n",
    "        y2=k*k-n\n",
    "        y=m.isqrt(y2)\n",
    "    return k+y,k-y"
   ]
  },
  {
   "cell_type": "code",
   "execution_count": 8,
   "metadata": {},
   "outputs": [
    {
     "name": "stdout",
     "output_type": "stream",
     "text": [
      "(9924259, 124399)\n",
      "Time taken = 1.4453346000000238\n"
     ]
    }
   ],
   "source": [
    "import time\n",
    "strt = time.perf_counter()\n",
    "print(fermat1(1234567895341))\n",
    "end = time.perf_counter()\n",
    "print(f'Time taken = {end-strt}')"
   ]
  },
  {
   "cell_type": "code",
   "execution_count": 9,
   "metadata": {},
   "outputs": [
    {
     "name": "stdout",
     "output_type": "stream",
     "text": [
      "(1299709, 1299709)\n",
      "Time taken = 0.00018219999992652447\n"
     ]
    }
   ],
   "source": [
    "import time\n",
    "strt = time.perf_counter()\n",
    "print(fermat1(1689243484681))\n",
    "end = time.perf_counter()\n",
    "print(f'Time taken = {end-strt}')"
   ]
  },
  {
   "cell_type": "markdown",
   "metadata": {},
   "source": [
    "### Factoring by Numbers Less than $\\sqrt n$"
   ]
  },
  {
   "cell_type": "code",
   "execution_count": 3,
   "metadata": {},
   "outputs": [],
   "source": [
    "import math as m\n",
    "def trial(n):\n",
    "    x= m.floor(m.sqrt(n))\n",
    "    for i in range(2,x+1):\n",
    "        if n%i==0:\n",
    "            print(\"Factors=\",i,n/i)\n",
    "            break"
   ]
  },
  {
   "cell_type": "code",
   "execution_count": 4,
   "metadata": {},
   "outputs": [
    {
     "name": "stdout",
     "output_type": "stream",
     "text": [
      "Factors= 11 112233445031.0\n",
      "Time taken = 0.0001803000000109023\n"
     ]
    }
   ],
   "source": [
    "import time\n",
    "strt = time.perf_counter()\n",
    "trial(1234567895341)\n",
    "end = time.perf_counter()\n",
    "print(f'Time taken = {end-strt}')"
   ]
  },
  {
   "cell_type": "code",
   "execution_count": 5,
   "metadata": {},
   "outputs": [
    {
     "name": "stdout",
     "output_type": "stream",
     "text": [
      "Factors= 1299709 1299709.0\n",
      "Time taken = 0.1541712999999163\n"
     ]
    }
   ],
   "source": [
    "import time\n",
    "strt = time.perf_counter()\n",
    "trial(1689243484681)\n",
    "end = time.perf_counter()\n",
    "print(f'Time taken = {end-strt}')"
   ]
  },
  {
   "cell_type": "markdown",
   "metadata": {},
   "source": [
    "### Fibonacci Numbers"
   ]
  },
  {
   "cell_type": "code",
   "execution_count": 27,
   "metadata": {},
   "outputs": [
    {
     "name": "stdout",
     "output_type": "stream",
     "text": [
      "Number= 165580141\n",
      "Factors= (59369, 2789)\n"
     ]
    }
   ],
   "source": [
    "f = [1,1]\n",
    "for i in range(2,200):\n",
    "    f.append(f[i-1]+f[i-2])\n",
    "f1 = f[40]\n",
    "print(\"Number=\",f1)\n",
    "print(\"Factors=\",prime(f1))"
   ]
  },
  {
   "cell_type": "markdown",
   "metadata": {},
   "source": [
    "## 2. Generalized"
   ]
  },
  {
   "cell_type": "markdown",
   "metadata": {},
   "source": [
    "Instead of solving for $x^2 - y^2=n$,  we solve for $x^2 - y^2 = k.n\\ $   for some integer $k$. Which means: $$x^2\\equiv y^2 \\ mod(n) \\implies x^2-y^2\\equiv 0 \\ mod(n) \\ i.e. \\ (x-y)(x+y)\\equiv 0 \\ mod(n)$$\n",
    "We get trivial factorization in case of $x\\not \\equiv \\mp y \\ mod(n)$. And, $gcd(x-y,n)$ and $gcd(x+y,n)$ will be our non-trivial divisors of $n$.\n",
    "\n",
    "However in practical this method can take more time than  method 1 but theoretically it is better  as now we need to check for $x^2-k.n$ for perfect prime for any value of $k$ whereas earlier $x^2-n$ had to be prime so we would need to calculate $x^2$ every time. "
   ]
  },
  {
   "cell_type": "code",
   "execution_count": 4,
   "metadata": {},
   "outputs": [],
   "source": [
    "import math as m\n",
    "def fermat2(n):  #take n odd\n",
    "    x = m.isqrt(n)\n",
    "    if x<m.sqrt(n):\n",
    "        x=x+1\n",
    "    x2 = x*x\n",
    "    y2 = x2-n\n",
    "    y = m.isqrt(y2)\n",
    "    k=2\n",
    "    while y*y!=y2:\n",
    "        if x2>k*n:\n",
    "            y2 = x2-k*n\n",
    "            y = m.isqrt(y2)\n",
    "            k=k+1\n",
    "        else:\n",
    "            x= x+1\n",
    "            x2 = x*x\n",
    "            y2 = x2-n\n",
    "            y = m.isqrt(y2)\n",
    "    print(m.gcd(x-y,n),m.gcd(x+y,n))"
   ]
  },
  {
   "cell_type": "code",
   "execution_count": 33,
   "metadata": {},
   "outputs": [
    {
     "name": "stdout",
     "output_type": "stream",
     "text": [
      "127 9721\n",
      "Time taken = 0.002842199999577133\n"
     ]
    }
   ],
   "source": [
    "import time\n",
    "strt = time.perf_counter()\n",
    "fermat2(1234567)\n",
    "end = time.perf_counter()\n",
    "print(f'Time taken = {end-strt}')"
   ]
  },
  {
   "cell_type": "code",
   "execution_count": 34,
   "metadata": {},
   "outputs": [
    {
     "name": "stdout",
     "output_type": "stream",
     "text": [
      "1299709 1299709\n",
      "Time taken = 0.00020169999970676145\n"
     ]
    }
   ],
   "source": [
    "import time\n",
    "strt = time.perf_counter()\n",
    "fermat2(1689243484681)\n",
    "end = time.perf_counter()\n",
    "print(f'Time taken = {end-strt}')"
   ]
  },
  {
   "cell_type": "code",
   "execution_count": 8,
   "metadata": {},
   "outputs": [
    {
     "name": "stdout",
     "output_type": "stream",
     "text": [
      "124399 9924259\n",
      "Time taken = 1.964020999999775\n"
     ]
    }
   ],
   "source": [
    "import time\n",
    "strt = time.perf_counter()\n",
    "fermat2(1234567895341)\n",
    "end = time.perf_counter()\n",
    "print(f'Time taken = {end-strt}')"
   ]
  }
 ],
 "metadata": {
  "kernelspec": {
   "display_name": "Python 3",
   "language": "python",
   "name": "python3"
  },
  "language_info": {
   "codemirror_mode": {
    "name": "ipython",
    "version": 3
   },
   "file_extension": ".py",
   "mimetype": "text/x-python",
   "name": "python",
   "nbconvert_exporter": "python",
   "pygments_lexer": "ipython3",
   "version": "3.8.3"
  }
 },
 "nbformat": 4,
 "nbformat_minor": 4
}
