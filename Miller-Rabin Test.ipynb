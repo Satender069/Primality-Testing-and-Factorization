{
 "cells": [
  {
   "cell_type": "markdown",
   "metadata": {},
   "source": [
    "# Miller-Rabin Test for Compositeness"
   ]
  },
  {
   "cell_type": "markdown",
   "metadata": {},
   "source": [
    "### Theorem: \n",
    "Let $p$ be an odd prime and $p-1 = 2^km\\ ;\\ k\\geq 1$, with $m$ an odd integer. Then any integer $a(2\\leq a\\leq p-2)$  will satisfy $a^m\\equiv 1 \\ mod(p)$ or $ a^{2^j}\\equiv -1\\ mod(p)$ for some $j=0,1,....,k-1$."
   ]
  },
  {
   "cell_type": "code",
   "execution_count": 1,
   "metadata": {},
   "outputs": [],
   "source": [
    "import random as r\n",
    "def miller(n):\n",
    "    if n%2!=0:\n",
    "        m=(n-1)/2\n",
    "        k=1\n",
    "        while m%2==0:\n",
    "            m=m/2\n",
    "            k = k+1\n",
    "        m = int(m)\n",
    "        a = r.randint(2,n-1)\n",
    "        if pow(a,m,n)!=1:\n",
    "            l=0\n",
    "            for j in range(k):\n",
    "                if pow(a,pow(2,j)*m,n)!=n-1:\n",
    "                    l=l+1\n",
    "            if l==k:\n",
    "                print(\"Composite\")\n",
    "            else:\n",
    "                print(\"Undecided\")\n",
    "        else:\n",
    "            print(\"Undecided\")\n",
    "    else:\n",
    "        print(\"Definite Composite\")\n",
    "        \n"
   ]
  },
  {
   "cell_type": "code",
   "execution_count": 56,
   "metadata": {},
   "outputs": [
    {
     "name": "stdout",
     "output_type": "stream",
     "text": [
      "Undecided\n"
     ]
    }
   ],
   "source": [
    "miller(1777)"
   ]
  },
  {
   "cell_type": "code",
   "execution_count": 109,
   "metadata": {},
   "outputs": [
    {
     "name": "stdout",
     "output_type": "stream",
     "text": [
      "Undecided\n"
     ]
    }
   ],
   "source": [
    "miller(100123456789)"
   ]
  },
  {
   "cell_type": "code",
   "execution_count": 110,
   "metadata": {},
   "outputs": [
    {
     "name": "stdout",
     "output_type": "stream",
     "text": [
      "Composite\n"
     ]
    }
   ],
   "source": [
    "miller(232354763543765732524573257)"
   ]
  }
 ],
 "metadata": {
  "kernelspec": {
   "display_name": "Python 3",
   "language": "python",
   "name": "python3"
  },
  "language_info": {
   "codemirror_mode": {
    "name": "ipython",
    "version": 3
   },
   "file_extension": ".py",
   "mimetype": "text/x-python",
   "name": "python",
   "nbconvert_exporter": "python",
   "pygments_lexer": "ipython3",
   "version": "3.8.3"
  }
 },
 "nbformat": 4,
 "nbformat_minor": 4
}
