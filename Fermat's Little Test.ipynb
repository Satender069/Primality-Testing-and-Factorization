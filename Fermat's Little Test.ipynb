{
 "cells": [
  {
   "cell_type": "markdown",
   "metadata": {},
   "source": [
    "# Fermat's Little Test"
   ]
  },
  {
   "cell_type": "markdown",
   "metadata": {},
   "source": [
    "## Theory: \n",
    "Let $p$ be a prime number and $p\\nmid a$ for some integer $a$ then $$a^{p-1}\\ (mod\\ p) = 1.$$\n",
    " \n"
   ]
  },
  {
   "cell_type": "markdown",
   "metadata": {},
   "source": [
    "### Steps: \n",
    "- We choose base $a$ randomly between $1$ to $n-1$,\n",
    "- Then we run above test for $a$,\n",
    "- If $a$ passes above test then it is probable prime,\n",
    "- Else we get a definite composite."
   ]
  },
  {
   "cell_type": "code",
   "execution_count": 1,
   "metadata": {},
   "outputs": [],
   "source": [
    "import random as r\n",
    "def fermat(n):\n",
    "    a = r.randint(2,n)\n",
    "    print(a)\n",
    "    if pow(a,(n-1),n)!=1:\n",
    "        print(\"Definite Composite\")\n",
    "    else:\n",
    "        print(\"Probable Prime\")"
   ]
  },
  {
   "cell_type": "code",
   "execution_count": 4,
   "metadata": {},
   "outputs": [
    {
     "name": "stdout",
     "output_type": "stream",
     "text": [
      "85\n",
      "Definite Composite\n"
     ]
    }
   ],
   "source": [
    "fermat(561) # This is a Carmichale number, passes test for 'a' with gcd(a,n)=1."
   ]
  },
  {
   "cell_type": "code",
   "execution_count": 6,
   "metadata": {},
   "outputs": [
    {
     "name": "stdout",
     "output_type": "stream",
     "text": [
      "809556\n",
      "Definite Composite\n"
     ]
    }
   ],
   "source": [
    "fermat(1234567)"
   ]
  },
  {
   "cell_type": "code",
   "execution_count": 18,
   "metadata": {},
   "outputs": [
    {
     "name": "stdout",
     "output_type": "stream",
     "text": [
      "359\n",
      "Probable Prime\n"
     ]
    }
   ],
   "source": [
    "fermat(561) # Here 359 is a F-liar"
   ]
  }
 ],
 "metadata": {
  "kernelspec": {
   "display_name": "Python 3",
   "language": "python",
   "name": "python3"
  },
  "language_info": {
   "codemirror_mode": {
    "name": "ipython",
    "version": 3
   },
   "file_extension": ".py",
   "mimetype": "text/x-python",
   "name": "python",
   "nbconvert_exporter": "python",
   "pygments_lexer": "ipython3",
   "version": "3.8.3"
  }
 },
 "nbformat": 4,
 "nbformat_minor": 4
}
