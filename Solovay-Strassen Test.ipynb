{
 "cells": [
  {
   "cell_type": "markdown",
   "metadata": {},
   "source": [
    "# Solovay-Strassen Test"
   ]
  },
  {
   "cell_type": "markdown",
   "metadata": {},
   "source": [
    "### 1). Jacobi Symbol :\n",
    "\n",
    "For an odd integer $n\\geq 3$ with decomposition $n=p_1^{k_1} p_2^{k_2} p_3^{k_3} ....p_r^{k_r}$ and $a\\in \\mathbb{Z}$ let\n",
    "$$\n",
    "\\bigg(\\frac{a}{n}\\bigg)= \\bigg(\\frac{a}{p_1}\\bigg)^{k_1} \\bigg( \\frac{a}{p_2} \\bigg)^{k_2}.......\\bigg(\\frac{a}{p_r}\\bigg)^{k_r}\n",
    "$$\n",
    "$\\big(\\frac{a}{n}\\big)$ is called Jacobi Symbol of $a$ and $n$.\n",
    "\n",
    "where $\\big(\\frac{a}{p}\\big)$ for prime $p$ is Legendre Symbol, defined as:\n",
    "\n",
    "\n",
    "\\begin{equation*}\n",
    "\\text{}~~\\bigg(\\frac{a}{p}\\bigg)=\\left\\{\n",
    "\\begin{array}{rl}\n",
    "0,  & \\text{If $a=k.p$ for some integer $k$}\\\\\n",
    "1, & \\text{If a is a quadratic residue mod p}\\\\\n",
    "-1, & \\text{If a is a quadratic non-residue mod p.}\n",
    "\\end{array}\\right.\n",
    "\\end{equation*}\n"
   ]
  },
  {
   "cell_type": "markdown",
   "metadata": {},
   "source": [
    "#### Steps for Computation of Jacobi Symbol  :\n",
    "\n",
    "- If $a\\not\\in \\{1,....,n-1\\}$, result is $\\big(\\frac{a\\ mod\\ n}{n}\\big)$\n",
    "- If $a=0$, output 0, if $a=1$, output 1\n",
    "- If $4\\mid a$, result is $\\big(\\frac{a/4}{n}\\big)$\n",
    "- If $2\\mid a$and $n\\ (mod\\ 8)\\in \\{1,7\\}$, result is $\\big(\\frac{a/2}{n}\\big)$\n",
    "- If $2\\mid a$and $n\\ (mod\\ 8)\\in \\{3,5\\}$, result is $-\\big(\\frac{a/2}{n}\\big)$\n",
    "- If $a>1$ and $a\\ (mod\\ 4)=1$ or $n\\ (mod\\ 4)=1$, result is $\\big(\\frac{n\\ mod\\ a}{n}\\big)$\n",
    "- If $a\\ (mod\\ 4)=3$ or $n\\ (mod\\ 4)=3$, result is $- \\big(\\frac{n\\ mod\\ a}{n}\\big)$"
   ]
  },
  {
   "cell_type": "code",
   "execution_count": 1243,
   "metadata": {},
   "outputs": [],
   "source": [
    "def jacobi(n,a):\n",
    "        b=a%n\n",
    "        c=n\n",
    "        s=1\n",
    "        while b>=2:\n",
    "            while b%4==0:\n",
    "                b = b/4\n",
    "            if b%2 == 0:\n",
    "                if c%8==3 or c%8==5:\n",
    "                    s = -s\n",
    "                b=b/2\n",
    "            if b==1:\n",
    "                break\n",
    "            if b%4==c%4==3:\n",
    "                s=-s\n",
    "            b1=b\n",
    "            b=c%b\n",
    "            c=b1\n",
    "        return s"
   ]
  },
  {
   "cell_type": "code",
   "execution_count": 1338,
   "metadata": {
    "scrolled": true
   },
   "outputs": [
    {
     "data": {
      "text/plain": [
       "1"
      ]
     },
     "execution_count": 1338,
     "metadata": {},
     "output_type": "execute_result"
    }
   ],
   "source": [
    "jacobi(1373,773)"
   ]
  },
  {
   "cell_type": "code",
   "execution_count": 1341,
   "metadata": {},
   "outputs": [
    {
     "data": {
      "text/plain": [
       "-1"
      ]
     },
     "execution_count": 1341,
     "metadata": {},
     "output_type": "execute_result"
    }
   ],
   "source": [
    "jacobi(1234567856333457235432643,232323532)"
   ]
  },
  {
   "cell_type": "markdown",
   "metadata": {},
   "source": [
    "### 2). Solovay-Strassen Test"
   ]
  },
  {
   "cell_type": "markdown",
   "metadata": {},
   "source": [
    "We select a random base $a\\in \\{2,...,n-1\\}$ and check whether or not $$\n",
    "a^{n-1/2}.\\bigg(\\frac{a}{n}\\bigg)\\ (mod\\ n)= 1.\n",
    "$$\n",
    "\n",
    "If it is then we check for another $a$, best way is to input a bound for number of $a$, if above condition is satisfied than $n$ is definite composite. "
   ]
  },
  {
   "cell_type": "code",
   "execution_count": 1242,
   "metadata": {},
   "outputs": [],
   "source": [
    "import math as m\n",
    "import random as r\n",
    "def sstest(number):\n",
    "        base = r.randint(2,number-1)\n",
    "        gcd = m.gcd(base,number)\n",
    "        if gcd!=1:\n",
    "            print(\"Composite\")\n",
    "        else:\n",
    "            euler = pow(base,int((number-1)/2),number)\n",
    "            jacob = jacobi(number,base)\n",
    "            if euler != 1:\n",
    "                if euler!= number-1:        \n",
    "                    print(\"Composite\")\n",
    "                else:                    \n",
    "                    if jacob != -1:          \n",
    "                        print(\"Composite\")\n",
    "                    else:                   \n",
    "                        print(\"Probable Prime\")\n",
    "            else:                       \n",
    "                if jacob!=1:                \n",
    "                    print(\"Composite\")\n",
    "                else:                       \n",
    "                    print(\"Probable Prime\")\n",
    "                    "
   ]
  },
  {
   "cell_type": "code",
   "execution_count": 895,
   "metadata": {},
   "outputs": [
    {
     "name": "stdout",
     "output_type": "stream",
     "text": [
      "Composite\n"
     ]
    }
   ],
   "source": [
    "sstest(1234567)"
   ]
  },
  {
   "cell_type": "code",
   "execution_count": 897,
   "metadata": {
    "scrolled": false
   },
   "outputs": [
    {
     "name": "stdout",
     "output_type": "stream",
     "text": [
      "Probable Prime\n"
     ]
    }
   ],
   "source": [
    "sstest(20991129234731)   # This is a factorial(n!-1 or n!+1) prime integer"
   ]
  }
 ],
 "metadata": {
  "kernelspec": {
   "display_name": "Python 3",
   "language": "python",
   "name": "python3"
  },
  "language_info": {
   "codemirror_mode": {
    "name": "ipython",
    "version": 3
   },
   "file_extension": ".py",
   "mimetype": "text/x-python",
   "name": "python",
   "nbconvert_exporter": "python",
   "pygments_lexer": "ipython3",
   "version": "3.8.3"
  }
 },
 "nbformat": 4,
 "nbformat_minor": 4
}
